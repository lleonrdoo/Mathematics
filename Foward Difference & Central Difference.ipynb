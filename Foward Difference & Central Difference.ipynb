{
 "cells": [
  {
   "cell_type": "code",
   "execution_count": 10,
   "id": "2228c9e7-0634-45a8-a0d3-6bde74cd8d1c",
   "metadata": {},
   "outputs": [
    {
     "name": "stdout",
     "output_type": "stream",
     "text": [
      "Turunan pertama f(x) pada x = 0.8 dengan Beda Maju adalah: -0.7173839584026508\n"
     ]
    }
   ],
   "source": [
    "import numpy as np\n",
    "\n",
    "# Fungsi untuk menghitung turunan dengan Beda Maju\n",
    "def beda_maju(f, x, h):\n",
    "    return (f(x + h) - f(x)) / h\n",
    "\n",
    "# Contoh fungsi f(x)\n",
    "def f(x):\n",
    "    return np.cos(x)  # Contoh fungsi f(x)\n",
    "\n",
    "# Titik di mana kita ingin menghitung turunan\n",
    "nilai_x = 0.8\n",
    "\n",
    "# Langkah kecil h\n",
    "h = 0.00008\n",
    "\n",
    "# Menghitung turunan menggunakan Beda Maju\n",
    "turunan = beda_maju(f, nilai_x, h)\n",
    "\n",
    "# Menampilkan hasil\n",
    "print(f\"Turunan pertama f(x) pada x = {x_point} dengan Beda Maju adalah: {turunan}\")\n"
   ]
  },
  {
   "cell_type": "code",
   "execution_count": null,
   "id": "8f20599a-9c50-470c-8e72-969f50755861",
   "metadata": {},
   "outputs": [],
   "source": [
    "# Diketahui f'(x) = -sin(x), dan hasil dari f'(x) adalah -0.71735"
   ]
  },
  {
   "cell_type": "markdown",
   "id": "be5b5fe7-d62d-4c13-8fce-be03eb6f5d23",
   "metadata": {},
   "source": [
    "#"
   ]
  },
  {
   "cell_type": "code",
   "execution_count": 20,
   "id": "b212faa6-6d94-48a5-a451-9861d94e603d",
   "metadata": {},
   "outputs": [
    {
     "name": "stdout",
     "output_type": "stream",
     "text": [
      "Turunan pertama f(x) pada x = 0.8 dengan Beda Pusat adalah: -0.717356089931694\n"
     ]
    }
   ],
   "source": [
    "import numpy as np\n",
    "\n",
    "# Fungsi untuk menghitung turunan dengan Beda Pusat\n",
    "def beda_pusat(f, x, h):\n",
    "    return (f(x + h) - f(x - h)) / (2 * h)\n",
    "\n",
    "# Contoh fungsi f(x)\n",
    "def f(x):\n",
    "    return np.cos(x) # Contoh fungsi f(x)\n",
    "\n",
    "# Titik di mana kita ingin menghitung turunan\n",
    "nilai_x = 0.8\n",
    "\n",
    "# Langkah kecil h\n",
    "h = 0.00009\n",
    "\n",
    "# Menghitung turunan menggunakan Beda Pusat\n",
    "turunan = beda_pusat(f, nilai_x, h)\n",
    "\n",
    "# Menampilkan hasil\n",
    "print(f\"Turunan pertama f(x) pada x = {x_point} dengan Beda Pusat adalah: {turunan}\")\n"
   ]
  },
  {
   "cell_type": "code",
   "execution_count": 8,
   "id": "ff685d94-b32b-412d-9256-0b5a5e7d5ebb",
   "metadata": {},
   "outputs": [],
   "source": [
    "# Diketahui f'(x) = -sin(x), dan hasil dari f'(x) adalah -0.71735"
   ]
  },
  {
   "cell_type": "code",
   "execution_count": null,
   "id": "7ccb462b-2145-43f3-b311-0accfe6c0e64",
   "metadata": {},
   "outputs": [],
   "source": []
  }
 ],
 "metadata": {
  "kernelspec": {
   "display_name": "Python 3 (ipykernel)",
   "language": "python",
   "name": "python3"
  },
  "language_info": {
   "codemirror_mode": {
    "name": "ipython",
    "version": 3
   },
   "file_extension": ".py",
   "mimetype": "text/x-python",
   "name": "python",
   "nbconvert_exporter": "python",
   "pygments_lexer": "ipython3",
   "version": "3.12.4"
  }
 },
 "nbformat": 4,
 "nbformat_minor": 5
}
